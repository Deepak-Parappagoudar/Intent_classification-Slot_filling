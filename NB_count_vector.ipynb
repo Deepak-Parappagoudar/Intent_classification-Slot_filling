{
 "cells": [
  {
   "cell_type": "markdown",
   "metadata": {},
   "source": [
    "Import required libraries"
   ]
  },
  {
   "cell_type": "code",
   "execution_count": null,
   "metadata": {},
   "outputs": [],
   "source": [
    "import pandas as pd\n",
    "import contractions\n",
    "import nltk\n",
    "from nltk.corpus import stopwords\n",
    "import string,re\n",
    "string.punctuation\n",
    "from sklearn.feature_extraction.text import CountVectorizer\n",
    "from sklearn.model_selection import train_test_split\n",
    "from sklearn.preprocessing import LabelEncoder\n",
    "from sklearn import model_selection, naive_bayes\n",
    "from sklearn.metrics import accuracy_score"
   ]
  },
  {
   "cell_type": "markdown",
   "metadata": {},
   "source": [
    "Import the dataset from saved location"
   ]
  },
  {
   "cell_type": "code",
   "execution_count": 57,
   "metadata": {
    "id": "o5VlLZLSS9ss"
   },
   "outputs": [],
   "source": [
    "\n",
    "df = pd.read_csv('final_train.csv')"
   ]
  },
  {
   "cell_type": "markdown",
   "metadata": {},
   "source": [
    "Remove punctuations, URLs and articles"
   ]
  },
  {
   "cell_type": "code",
   "execution_count": 58,
   "metadata": {
    "id": "MuSR5g-MT3mQ"
   },
   "outputs": [],
   "source": [
    "\n",
    "\n",
    "def preprocess(text):\n",
    "  articles=['a','an','the']\n",
    "\n",
    "  pre=\"\".join([i for i in text if i not in string.punctuation])\n",
    "\n",
    "  pre=re.sub(r\"http\\S+\", \"\", pre) \n",
    "\n",
    "  pre=[word.lower() for word in pre.split() if word not in articles]\n",
    "    \n",
    "  return \" \".join(pre)\n",
    "\n",
    "\n",
    "df.text=df.text.apply(lambda x: preprocess(x))"
   ]
  },
  {
   "cell_type": "markdown",
   "metadata": {},
   "source": [
    "Create arrays X: feature and y:labels"
   ]
  },
  {
   "cell_type": "code",
   "execution_count": 61,
   "metadata": {
    "id": "Gp4K0fN_T4-F"
   },
   "outputs": [],
   "source": [
    "X_pre=df['text']\n",
    "y=df['intent']"
   ]
  },
  {
   "cell_type": "markdown",
   "metadata": {
    "id": "fQUMnFoIX-On"
   },
   "source": [
    "Using CountVectorization for feature extraction"
   ]
  },
  {
   "cell_type": "code",
   "execution_count": 62,
   "metadata": {
    "id": "yES5s1_5H0Bj"
   },
   "outputs": [],
   "source": [
    "\n",
    "cv=CountVectorizer(max_features=10000)\n",
    "X=cv.fit_transform(X_pre)"
   ]
  },
  {
   "cell_type": "markdown",
   "metadata": {
    "id": "4ZB6OOQOJY8Z"
   },
   "source": [
    "Split data into training and testing (validation) data\n",
    "\n",
    "In this case, we have choosen training data and test data to be 70 percent and 30 percent of the dataset respectively"
   ]
  },
  {
   "cell_type": "code",
   "execution_count": 63,
   "metadata": {
    "id": "a0STTCmfT47Q"
   },
   "outputs": [],
   "source": [
    "\n",
    "X_train,X_test,y_train,y_test=train_test_split(X, y, test_size=0.30)"
   ]
  },
  {
   "cell_type": "markdown",
   "metadata": {},
   "source": [
    "Encoding categorical labels to numerical labels"
   ]
  },
  {
   "cell_type": "code",
   "execution_count": 64,
   "metadata": {
    "id": "6Wkibx3OYWwC"
   },
   "outputs": [],
   "source": [
    "\n",
    "Encoder = LabelEncoder()\n",
    "y_train = Encoder.fit_transform(y_train)\n",
    "y_test = Encoder.fit_transform(y_test)\n"
   ]
  },
  {
   "cell_type": "markdown",
   "metadata": {
    "id": "VLW5i4iZT3Yc"
   },
   "source": [
    "Fit Naive-Bayes classifier to the data and test accuracy \n"
   ]
  },
  {
   "cell_type": "code",
   "execution_count": 65,
   "metadata": {
    "colab": {
     "base_uri": "https://localhost:8080/"
    },
    "id": "I4pL3_LXUNPT",
    "outputId": "4da881dc-c88a-4ca2-ea38-7a630ed64e52"
   },
   "outputs": [
    {
     "name": "stdout",
     "output_type": "stream",
     "text": [
      "90.87007743728903\n"
     ]
    }
   ],
   "source": [
    "\n",
    "Naive = naive_bayes.MultinomialNB()\n",
    "Naive.fit(X_train,y_train)\n",
    "\n",
    "predictions_NB = Naive.predict(X_test)\n",
    "\n",
    "acc=accuracy_score(predictions_NB, y_test)*100\n",
    "print(acc)\n"
   ]
  }
 ],
 "metadata": {
  "colab": {
   "name": "HiWi-SVM.ipynb",
   "provenance": []
  },
  "kernelspec": {
   "display_name": "Python 3 (ipykernel)",
   "language": "python",
   "name": "python3"
  },
  "language_info": {
   "codemirror_mode": {
    "name": "ipython",
    "version": 3
   },
   "file_extension": ".py",
   "mimetype": "text/x-python",
   "name": "python",
   "nbconvert_exporter": "python",
   "pygments_lexer": "ipython3",
   "version": "3.9.12"
  }
 },
 "nbformat": 4,
 "nbformat_minor": 1
}
